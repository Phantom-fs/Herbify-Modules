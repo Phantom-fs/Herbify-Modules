{
 "cells": [
  {
   "cell_type": "code",
   "execution_count": null,
   "id": "initial_id",
   "metadata": {
    "collapsed": true
   },
   "outputs": [],
   "source": [
    "import os\n",
    "import cv2 as cv\n",
    "import albumentations as A"
   ]
  },
  {
   "cell_type": "code",
   "execution_count": null,
   "id": "60a0ecfc98c9efbb",
   "metadata": {
    "collapsed": false
   },
   "outputs": [],
   "source": [
    "# transformation for each image\n",
    "a1 = A.Compose([\n",
    "    A.HorizontalFlip(p=1.0),\n",
    "    \n",
    "    A.RandomGamma(p=0.5),\n",
    "    A.RandomBrightnessContrast(p=0.6, brightness_limit=0.08, contrast_limit=0.04)\n",
    "])\n",
    "\n",
    "a2 = A.Compose([\n",
    "    A.HorizontalFlip(p=1.0),\n",
    "    A.VerticalFlip(p=1.0),\n",
    "    \n",
    "    A.RandomBrightnessContrast(p=0.6, brightness_limit=0.08, contrast_limit=0.04),\n",
    "    A.RandomToneCurve(p=0.5)\n",
    "])\n",
    "\n",
    "a3 = A.Compose([\n",
    "    A.Transpose(p=1.0),\n",
    "    \n",
    "    A.RandomGamma(p=0.6),\n",
    "    A.RandomToneCurve(p=0.5)\n",
    "])\n",
    "\n",
    "a4 = A.Compose([\n",
    "    A.Transpose(p=1.0),\n",
    "    A.HorizontalFlip(p=1.0),\n",
    "    \n",
    "    A.GaussNoise(p=0.5),\n",
    "    A.HueSaturationValue(p=0.6, hue_shift_limit=10, sat_shift_limit=10, val_shift_limit=10)\n",
    "])\n",
    "\n",
    "a5 = A.Compose([\n",
    "    A.Transpose(p=1.0),\n",
    "    A.VerticalFlip(p=1.0),\n",
    "    \n",
    "    A.RandomToneCurve(p=0.6),\n",
    "    A.HueSaturationValue(p=0.5, hue_shift_limit=10, sat_shift_limit=10, val_shift_limit=10)\n",
    "])\n",
    "\n",
    "aug_list = [a1, a2, a3, a4, a5]"
   ]
  },
  {
   "cell_type": "code",
   "execution_count": null,
   "id": "f4a49cefffd0cbd",
   "metadata": {
    "collapsed": false
   },
   "outputs": [],
   "source": [
    "# Data\n",
    "ds = \"./.../Herb/augo\"\n",
    "\n",
    "save_ds = \"./.../Herb/aug\"\n",
    "\n",
    "if not os.path.exists(save_ds):\n",
    "    os.mkdir(save_ds)"
   ]
  },
  {
   "cell_type": "code",
   "execution_count": null,
   "id": "f516a2b66d590b8f",
   "metadata": {
    "collapsed": false
   },
   "outputs": [],
   "source": [
    "# Folders\n",
    "folders = os.listdir(ds)\n",
    "\n",
    "org_num = []\n",
    "aug_num = []\n",
    "\n",
    "# i is the folder name\n",
    "for i in folders:\n",
    "    fld = os.path.join(ds, i)\n",
    "    \n",
    "    save_fld = os.path.join(save_ds, i)\n",
    "    \n",
    "    if not os.path.exists(save_fld):\n",
    "        os.mkdir(save_fld)\n",
    "        \n",
    "    org_fld = 0\n",
    "    aug_fld = 0\n",
    "    \n",
    "    # j is the image name\n",
    "    for j in os.listdir(fld):\n",
    "        org_fld += 1\n",
    "        aug_fld += 1\n",
    "        \n",
    "        pth = os.path.join(fld, j)\n",
    "        \n",
    "        img = cv.imread(pth)\n",
    "        \n",
    "        img_pth = save_fld + \"/\" + j[:-4] + \"_\" + \"00\" + \".jpg\"\n",
    "        cv.imwrite(img_pth, img)\n",
    "        \n",
    "        for aug in aug_list:\n",
    "            img_aug = aug(image=img)['image'] \n",
    "            img_pth = save_fld + \"/\" +  j[:-4] + \"_\" + str(aug_fld) + \".jpg\"\n",
    "            cv.imwrite(img_pth, img_aug)\n",
    "            img_aug = None\n",
    "            aug_fld += 1\n",
    "            \n",
    "    org_num.append(org_fld)\n",
    "    aug_num.append(aug_fld)"
   ]
  },
  {
   "cell_type": "code",
   "execution_count": null,
   "id": "e2eb4a01cf193873",
   "metadata": {
    "collapsed": false
   },
   "outputs": [],
   "source": [
    "# Print the number of images in each folder\n",
    "for i in range(len(folders)):\n",
    "    print(folders[i], \":\", org_num[i], \":\", aug_num[i])"
   ]
  }
 ],
 "metadata": {
  "kernelspec": {
   "display_name": "Python 3",
   "language": "python",
   "name": "python3"
  },
  "language_info": {
   "codemirror_mode": {
    "name": "ipython",
    "version": 2
   },
   "file_extension": ".py",
   "mimetype": "text/x-python",
   "name": "python",
   "nbconvert_exporter": "python",
   "pygments_lexer": "ipython2",
   "version": "2.7.6"
  }
 },
 "nbformat": 4,
 "nbformat_minor": 5
}
