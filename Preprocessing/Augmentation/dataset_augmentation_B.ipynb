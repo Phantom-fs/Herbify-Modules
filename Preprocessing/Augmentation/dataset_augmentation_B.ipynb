{
 "cells": [
  {
   "cell_type": "code",
   "execution_count": 1,
   "id": "initial_id",
   "metadata": {
    "ExecuteTime": {
     "end_time": "2024-05-10T09:13:53.943039Z",
     "start_time": "2024-05-10T09:13:52.524969Z"
    },
    "collapsed": true
   },
   "outputs": [],
   "source": [
    "import os\n",
    "import cv2 as cv\n",
    "import albumentations as A\n",
    "from tqdm import tqdm"
   ]
  },
  {
   "cell_type": "code",
   "execution_count": 2,
   "id": "60a0ecfc98c9efbb",
   "metadata": {
    "ExecuteTime": {
     "end_time": "2024-05-10T09:13:53.957343Z",
     "start_time": "2024-05-10T09:13:53.943039Z"
    },
    "collapsed": false
   },
   "outputs": [],
   "source": [
    "# transformation for each image\n",
    "a1 = A.Compose([\n",
    "    A.HorizontalFlip(p=1.0),\n",
    "    \n",
    "    A.RandomGamma(p=0.5),\n",
    "    A.RandomBrightnessContrast(p=0.6, brightness_limit=0.08, contrast_limit=0.04)\n",
    "])\n",
    "\n",
    "a2 = A.Compose([\n",
    "    A.HorizontalFlip(p=1.0),\n",
    "    A.VerticalFlip(p=1.0),\n",
    "    \n",
    "    A.RandomBrightnessContrast(p=0.6, brightness_limit=0.08, contrast_limit=0.04),\n",
    "    A.RandomToneCurve(p=0.5)\n",
    "])\n",
    "\n",
    "a3 = A.Compose([\n",
    "    A.Transpose(p=1.0),\n",
    "    \n",
    "    A.RandomGamma(p=0.6),\n",
    "    A.RandomToneCurve(p=0.5)\n",
    "])\n",
    "\n",
    "a4 = A.Compose([\n",
    "    A.Transpose(p=1.0),\n",
    "    A.HorizontalFlip(p=1.0),\n",
    "    \n",
    "    A.GaussNoise(p=0.5),\n",
    "    A.HueSaturationValue(p=0.6, hue_shift_limit=10, sat_shift_limit=10, val_shift_limit=10)\n",
    "])\n",
    "\n",
    "a5 = A.Compose([\n",
    "    A.Transpose(p=1.0),\n",
    "    A.VerticalFlip(p=1.0),\n",
    "    \n",
    "    A.RandomToneCurve(p=0.6),\n",
    "    A.HueSaturationValue(p=0.5, hue_shift_limit=10, sat_shift_limit=10, val_shift_limit=10)\n",
    "])\n",
    "\n",
    "aug_list = [a1, a2, a3, a4, a5]"
   ]
  },
  {
   "cell_type": "code",
   "execution_count": null,
   "id": "f4a49cefffd0cbd",
   "metadata": {
    "ExecuteTime": {
     "end_time": "2024-05-10T09:13:53.971533Z",
     "start_time": "2024-05-10T09:13:53.957942Z"
    },
    "collapsed": false
   },
   "outputs": [],
   "source": [
    "# Data\n",
    "ds = \"./.../Herb/Herb_py/Herbify/data/traino\"\n",
    "\n",
    "save_ds = \"./.../Herb/Herb_py/Herbify/data/train\"\n",
    "\n",
    "if not os.path.exists(save_ds):\n",
    "    os.mkdir(save_ds)"
   ]
  },
  {
   "cell_type": "code",
   "execution_count": 4,
   "id": "f516a2b66d590b8f",
   "metadata": {
    "ExecuteTime": {
     "end_time": "2024-05-10T09:51:55.338823Z",
     "start_time": "2024-05-10T09:13:53.973475Z"
    },
    "collapsed": false
   },
   "outputs": [
    {
     "name": "stderr",
     "output_type": "stream",
     "text": [
      "100%|██████████| 91/91 [38:01<00:00, 25.07s/it] \n"
     ]
    }
   ],
   "source": [
    "# Folders\n",
    "folders = os.listdir(ds)\n",
    "\n",
    "org_num = []\n",
    "aug_num = []\n",
    "\n",
    "# i is the folder name\n",
    "for i in tqdm(folders):\n",
    "    fld = os.path.join(ds, i)\n",
    "    \n",
    "    save_fld = os.path.join(save_ds, i)\n",
    "    \n",
    "    if not os.path.exists(save_fld):\n",
    "        os.mkdir(save_fld)\n",
    "        \n",
    "    org_fld = 0\n",
    "    aug_fld = 0\n",
    "    \n",
    "    # j is the image name\n",
    "    for j in os.listdir(fld):\n",
    "        org_fld += 1\n",
    "        aug_fld += 1\n",
    "        \n",
    "        pth = os.path.join(fld, j)\n",
    "        \n",
    "        img = cv.imread(pth)\n",
    "        \n",
    "        if aug_fld % 2 == 0:\n",
    "            img_pth = save_fld + \"/\" + \"a\" + str(aug_fld) + \".jpg\"\n",
    "        else:\n",
    "            img_pth = save_fld + \"/\" + \"z\" + str(aug_fld) + \".jpg\"\n",
    "            \n",
    "        cv.imwrite(img_pth, img)\n",
    "        \n",
    "        for aug in aug_list:\n",
    "            img = cv.imread(pth)\n",
    "            img_aug = aug(image=img)['image']\n",
    "            \n",
    "            if aug_fld % 2 == 0:\n",
    "                img_pth = save_fld + \"/\" + \"z\" + str(aug_fld) + \".jpg\"\n",
    "            else:\n",
    "                img_pth = save_fld + \"/\" + \"a\" + str(aug_fld) + \".jpg\"\n",
    "                \n",
    "            cv.imwrite(img_pth, img_aug)\n",
    "            img_aug = None\n",
    "            aug_fld += 1\n",
    "            \n",
    "    org_num.append(org_fld)\n",
    "    aug_num.append(aug_fld)"
   ]
  },
  {
   "cell_type": "code",
   "execution_count": 5,
   "id": "e2eb4a01cf193873",
   "metadata": {
    "ExecuteTime": {
     "end_time": "2024-05-10T09:51:55.356011Z",
     "start_time": "2024-05-10T09:51:55.345843Z"
    },
    "collapsed": false
   },
   "outputs": [
    {
     "name": "stdout",
     "output_type": "stream",
     "text": [
      "Allium cepa (Onion) : 61 : 366\n",
      "Aloe barbadensis miller (Aloevera) : 49 : 294\n",
      "Alpinia Galanga (Rasna) : 35 : 210\n",
      "Amaranthus Viridis (Arive-Dantu) : 85 : 510\n",
      "Andrographis paniculata (Nelavembu) : 47 : 282\n",
      "Annona squamosa (Seethapala) : 41 : 246\n",
      "Artocarpus heterophyllus (Jackfruit) : 74 : 444\n",
      "Azadirachta indica (Neem) : 49 : 294\n",
      "Bacopa monnieri (Bhrami) : 57 : 342\n",
      "Bambusa vulgaris (Bamboo) : 33 : 198\n",
      "Basella alba (Malabar Spinach) : 112 : 672\n",
      "Brassica Juncea (Indian Mustard) : 23 : 138\n",
      "Brassica oleracea (Kohlrabi) : 17 : 102\n",
      "Calotropis gigantea (Crown flower_Ekka) : 24 : 144\n",
      "Capsicum annuum (Chilly) : 16 : 96\n",
      "Cardiospermum halicacabum (Balloon Vine) : 26 : 156\n",
      "Carica papaya (Papaya) : 78 : 468\n",
      "Carissa Carandas (Karanda) : 51 : 306\n",
      "Catharanthus roseus (Catharanthus) : 49 : 294\n",
      "Chamaecostus cuspidatus (Insulin) : 47 : 282\n",
      "Cinnamomum camphora (Camphor) : 26 : 156\n",
      "Citrus limon (Lemon) : 102 : 612\n",
      "Citrus medica (herelikai) : 43 : 258\n",
      "Coffea arabica (Coffee) : 29 : 174\n",
      "Coleus amboinicus (Mexican mint_Doddpathre) : 68 : 408\n",
      "Colocasia esculenta (Taro) : 38 : 228\n",
      "Coriandrum sativum (Coriander) : 56 : 336\n",
      "Cucurbita (Pumpkin) : 46 : 276\n",
      "Curcuma longa (Turmeric) : 23 : 138\n",
      "Cymbopogon (Lemongrass) : 4 : 24\n",
      "Ducati Panigale (Ganigale) : 32 : 192\n",
      "Eclipta prostrata (Bringaraja) : 40 : 240\n",
      "Eucalyptus globulus Labill (Eucalyptus) : 21 : 126\n",
      "Euphorbia hirta (Astma weed) : 28 : 168\n",
      "Ficus Auriculata (Roxburgh fig) : 35 : 210\n",
      "Ficus Religiosa (Peepal Tree) : 44 : 264\n",
      "Gomphrena globosa (Globe Amarnath) : 40 : 240\n",
      "Graptophyllum pictum (Caricature) : 53 : 318\n",
      "Hibiscus rosa-sinensis (Hibiscus) : 59 : 354\n",
      "Hymenaea courbaril (Chakte) : 37 : 222\n",
      "Ixora coccinea (Jungle geranium_kepala) : 29 : 174\n",
      "Jasminum (Jasmine) : 69 : 414\n",
      "Justicia adhatoda (Malabar Nut) : 23 : 138\n",
      "Lantana camara (Lantana) : 27 : 162\n",
      "Lawsonia inermis (Henna) : 49 : 294\n",
      "Leucas aspera (Kambajala) : 31 : 186\n",
      "Magnolia champaca (Sampige) : 20 : 120\n",
      "Mangifera indica (Mango) : 80 : 480\n",
      "Manilkara zapota (Sapota) : 20 : 120\n",
      "Mentha (Mint) : 114 : 684\n",
      "Momordica dioica (Thumbai_Spiny gourd) : 42 : 252\n",
      "Morinda citrifolia (Nooni) : 37 : 222\n",
      "Moringa oleifera (Moringa_Drumstick) : 78 : 468\n",
      "Muntingia Calabura (Jamaica Cherry-Gasagase) : 39 : 234\n",
      "Murraya koenigii (Curry) : 88 : 528\n",
      "Neolamarckia cadamba (Burflower-tree_Kasambruga) : 25 : 150\n",
      "Nerium oleander (Arali) : 70 : 420\n",
      "Nyctanthes arbor-tristis (Parijatha) : 59 : 354\n",
      "Ocimum basilicum (kamakasturi) : 45 : 270\n",
      "Ocimum tenuiflorum (Tulsi) : 106 : 636\n",
      "Papaver somniferum (Poppy seed_Gasagase) : 38 : 228\n",
      "Phaseolus vulgaris (Beans) : 53 : 318\n",
      "Phyllanthus emblica (Amla) : 25 : 150\n",
      "Piper betle (Betel) : 74 : 444\n",
      "Piper nigrum (Black pepper) : 5 : 30\n",
      "Pisum sativum (Pea) : 31 : 186\n",
      "Plectranthus Amboinicus (Mexican Mint) : 33 : 198\n",
      "Pongamia pinnata (Pongamia_Honge) : 61 : 366\n",
      "Psidium guajava (Guava) : 100 : 600\n",
      "Punica granatum (Pomoegranate) : 90 : 540\n",
      "Radermachera xylocarpa (Padri) : 33 : 198\n",
      "Raphanus sativus (Raddish) : 20 : 120\n",
      "Ricinus communis (Castor) : 63 : 378\n",
      "Rosa rubiginosa (Rose) : 74 : 444\n",
      "Ruta graveolens (Common rue_naagdalli) : 29 : 174\n",
      "Santalum Album (Sandalwood) : 40 : 240\n",
      "Saraca asoca (Ashoka) : 46 : 276\n",
      "Saraca asoca (Seethaashoka) : 16 : 96\n",
      "Solanum lycopersicum (Tomato) : 30 : 180\n",
      "Solanum nigrum (Blackberry nightshade_Ganike) : 25 : 150\n",
      "Spinacia oleracea (Palak(Spinach)) : 110 : 660\n",
      "Syzygium cumini (Nerale) : 53 : 318\n",
      "Syzygium Jambos (Rose Apple) : 39 : 234\n",
      "Tabernaemontana Divaricata (Crape Jasmine) : 39 : 234\n",
      "Tagetes (Marigold) : 26 : 156\n",
      "Tamarindus indica (Tamarind) : 68 : 408\n",
      "Tecoma stans (Tecoma) : 22 : 132\n",
      "Tinospora cordifolia (Amruthaballi) : 53 : 318\n",
      "Trigonella Foenum-graecum (Fenugreek) : 25 : 150\n",
      "Wrightia tinctoria (Badipala) : 35 : 210\n",
      "Zingiber officinale (Ginger) : 28 : 168\n"
     ]
    }
   ],
   "source": [
    "# Print the number of images in each folder\n",
    "for i in range(len(folders)):\n",
    "    print(folders[i], \":\", org_num[i], \":\", aug_num[i])"
   ]
  }
 ],
 "metadata": {
  "kernelspec": {
   "display_name": "Python 3",
   "language": "python",
   "name": "python3"
  },
  "language_info": {
   "codemirror_mode": {
    "name": "ipython",
    "version": 2
   },
   "file_extension": ".py",
   "mimetype": "text/x-python",
   "name": "python",
   "nbconvert_exporter": "python",
   "pygments_lexer": "ipython2",
   "version": "2.7.6"
  }
 },
 "nbformat": 4,
 "nbformat_minor": 5
}
