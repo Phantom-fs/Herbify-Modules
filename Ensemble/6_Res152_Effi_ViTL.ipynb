{
 "cells": [
  {
   "cell_type": "code",
   "execution_count": null,
   "metadata": {
    "collapsed": true
   },
   "outputs": [],
   "source": [
    "import torch\n",
    "import torch.nn as nn\n",
    "import torchvision.transforms as transforms\n",
    "from torch.optim import Adam\n",
    "from torchvision import datasets\n",
    "from torchvision import models\n",
    "\n",
    "from torchvision.models import ViT_L_16_Weights\n",
    "from torchvision.models import EfficientNet_V2_L_Weights\n",
    "from torchvision.models import ResNet152_Weights\n",
    "\n",
    "import matplotlib.pyplot as plt\n",
    "import random\n",
    "\n",
    "import numpy as np\n",
    "from colorama import Fore, Style"
   ]
  },
  {
   "cell_type": "code",
   "execution_count": null,
   "metadata": {
    "collapsed": false
   },
   "outputs": [],
   "source": [
    "# Results libraries import\n",
    "from sklearn.metrics import accuracy_score, f1_score, precision_score, recall_score, roc_auc_score\n",
    "from sklearn.metrics import classification_report, confusion_matrix, roc_curve, auc, ConfusionMatrixDisplay"
   ]
  },
  {
   "cell_type": "code",
   "execution_count": null,
   "metadata": {
    "collapsed": false
   },
   "outputs": [],
   "source": [
    "# colorama\n",
    "red = Fore.RED\n",
    "green = Fore.GREEN\n",
    "blue = Fore.BLUE\n",
    "yellow = Fore.YELLOW\n",
    "cyan = Fore.CYAN\n",
    "\n",
    "reset = Style.RESET_ALL"
   ]
  },
  {
   "cell_type": "code",
   "execution_count": null,
   "metadata": {},
   "outputs": [],
   "source": [
    "# Data\n",
    "d = \"./.../Herb/\"\n",
    "\n",
    "# File location\n",
    "loc = \"Herb_py\"\n",
    "\n",
    "# Sub-Categorized data\n",
    "train_dir = d + loc + \"/data/data/train\"\n",
    "test_dir = d + loc + \"/data/data/test\"\n",
    "valid_dir = d + loc + \"/data/data/validation\""
   ]
  },
  {
   "cell_type": "code",
   "execution_count": null,
   "metadata": {
    "collapsed": false
   },
   "outputs": [],
   "source": [
    "# Setting the seed\n",
    "seed = 42\n",
    "random.seed(seed)\n",
    "torch.manual_seed(seed)\n",
    "torch.cuda.manual_seed(seed)\n",
    "torch.backends.cudnn.deterministic = True\n",
    "\n",
    "print(f'{blue}Global seed set to : {yellow}{seed}\\n')"
   ]
  },
  {
   "cell_type": "code",
   "execution_count": null,
   "metadata": {
    "collapsed": false
   },
   "outputs": [],
   "source": [
    "# Image dimentions\n",
    "img_dimen = (256, 256)\n",
    "\n",
    "bs = 16\n",
    "max_acc_ac = 0\n",
    "y_pred = []\n",
    "y_true = []"
   ]
  },
  {
   "cell_type": "code",
   "execution_count": null,
   "metadata": {},
   "outputs": [],
   "source": [
    "# org mean & std values\n",
    "mean_calc = [0.485, 0.456, 0.406]\n",
    "std_calc = [0.229, 0.224, 0.255]"
   ]
  },
  {
   "cell_type": "code",
   "execution_count": null,
   "metadata": {
    "collapsed": false
   },
   "outputs": [],
   "source": [
    "# Data transformations training set\n",
    "transform_train = transforms.Compose([\n",
    "    transforms.Resize(img_dimen),\n",
    "    transforms.ToTensor(),\n",
    "    transforms.Normalize(mean_calc, std_calc)\n",
    "])\n",
    "\n",
    "# Data transformations for validation and test sets\n",
    "transform_common = transforms.Compose([\n",
    "    transforms.Resize(img_dimen),\n",
    "    transforms.ToTensor(),\n",
    "    transforms.Normalize(mean_calc, std_calc)\n",
    "])\n",
    "\n",
    "# Image dataset\n",
    "dataset_train = datasets.ImageFolder(root=train_dir, transform=transform_train)\n",
    "dataset_test = datasets.ImageFolder(root=test_dir, transform=transform_common)\n",
    "dataset_valid = datasets.ImageFolder(root=valid_dir, transform=transform_common)"
   ]
  },
  {
   "cell_type": "code",
   "execution_count": null,
   "metadata": {
    "collapsed": false
   },
   "outputs": [],
   "source": [
    "# Hyperparameters\n",
    "max_epoch = 15\n",
    "batch_size = bs\n",
    "learningRate = 0.0001\n",
    "WeightDecay = 1e-08\n",
    "\n",
    "# All Information\n",
    "print(f'{blue}Epochs: {yellow}{max_epoch}{reset}')\n",
    "print(f'{blue}Batch size: {yellow}{batch_size}{reset}')\n",
    "print(f'{blue}Learning rate: {yellow}{learningRate}{reset}')\n",
    "print(f'{blue}Weight decay: {yellow}{WeightDecay}{reset}')"
   ]
  },
  {
   "cell_type": "code",
   "execution_count": null,
   "metadata": {
    "collapsed": false
   },
   "outputs": [],
   "source": [
    "# Dataloaders\n",
    "train_loader = torch.utils.data.DataLoader(dataset_train, batch_size=batch_size, shuffle=True)\n",
    "test_loader = torch.utils.data.DataLoader(dataset_test, batch_size=batch_size, shuffle=False)\n",
    "valid_loader = torch.utils.data.DataLoader(dataset_valid, batch_size=batch_size, shuffle=False)"
   ]
  },
  {
   "cell_type": "code",
   "execution_count": null,
   "metadata": {},
   "outputs": [],
   "source": [
    "# Ensemble Models\n",
    "# Model 1 and Model 2 classifying the same data\n",
    "class Ensemble(nn.Module):\n",
    "    def __init__(self, model1, model2, model3, num_classes, num_ftrs1, num_ftrs2, num_ftrs3):\n",
    "        super(Ensemble, self).__init__()\n",
    "        self.model1 = model1\n",
    "        self.model2 = model2\n",
    "        self.model3 = model3\n",
    "        \n",
    "        # remove the last layer of the models\n",
    "        self.model1.fc = nn.Identity()\n",
    "        self.model2.classifier[1] = nn.Identity()\n",
    "        self.model3.heads[0] = nn.Identity()\n",
    "        \n",
    "        # Additional New Layers\n",
    "        self.classifier = nn.Sequential(\n",
    "            nn.Linear(in_features=num_ftrs1 + num_ftrs2 + num_ftrs3, out_features=1024),\n",
    "            nn.ReLU(),\n",
    "            nn.Linear(in_features=1024, out_features=num_classes)\n",
    "        )\n",
    "        \n",
    "        # Transform the input to 224x224 from 256x256 for ViT\n",
    "        self.transform_224 = transforms.Resize((224, 224), antialias=True)\n",
    "    \n",
    "    def forward(self, x):\n",
    "        x1 = self.model1(x.clone())\n",
    "        x1 = x1.view(x1.size(0), -1)\n",
    "        \n",
    "        x2 = self.model2(x)\n",
    "        x2 = x2.view(x2.size(0), -1)\n",
    "        \n",
    "        # Transform the input to 224x224\n",
    "        x_resized = torch.stack([self.transform_224(img) for img in x])\n",
    "        \n",
    "        x3 = self.model3(x_resized)\n",
    "        x3 = x3.view(x2.size(0), -1)\n",
    "        \n",
    "        x = torch.cat((x1, x2, x3), dim=1)\n",
    "        x = self.classifier(x)\n",
    "        \n",
    "        return x"
   ]
  },
  {
   "cell_type": "code",
   "execution_count": null,
   "metadata": {
    "collapsed": false
   },
   "outputs": [],
   "source": [
    "num_classes = len(dataset_train.classes)\n",
    "\n",
    "# -----------------------------------------------------------------------------\n",
    "# Model 1\n",
    "model1 = models.resnet152(weights=ResNet152_Weights.IMAGENET1K_V2)\n",
    "\n",
    "# change the last layer of the model\n",
    "num_ftrs1 = model1.fc.in_features\n",
    "model1.fc = nn.Linear(in_features=num_ftrs1, out_features=num_classes)\n",
    "model1.load_state_dict(torch.load(d + loc + '/models/enf/ResNet152.pth'))\n",
    "\n",
    "# Freeze the model parameters\n",
    "for param in model1.parameters():\n",
    "    param.requires_grad = False\n",
    "    \n",
    "# -----------------------------------------------------------------------------\n",
    "# Model 2\n",
    "model2 = models.efficientnet_v2_l(EfficientNet_V2_L_Weights.IMAGENET1K_V1)\n",
    "\n",
    "# change the last layer of the model\n",
    "num_ftrs2 = model2.classifier[1].in_features\n",
    "model2.classifier[1] = nn.Linear(in_features=num_ftrs2, out_features=num_classes)\n",
    "model2.load_state_dict(torch.load(d + loc + '/models/enf/EfficientNet_V2_L.pth'))\n",
    "\n",
    "# Freeze the model parameters\n",
    "for param in model2.parameters():\n",
    "    param.requires_grad = False\n",
    "\n",
    "# -----------------------------------------------------------------------------\n",
    "# Model 3\n",
    "model3 = models.vit_l_16(weights=ViT_L_16_Weights.IMAGENET1K_V1)\n",
    "\n",
    "# change the last layer of the model\n",
    "num_ftrs3 = model3.heads[0].in_features\n",
    "model3.heads[0] = nn.Linear(in_features=num_ftrs3, out_features=num_classes)\n",
    "model3.load_state_dict(torch.load(d + loc + '/models/enf/ViT_L_16.pth'))\n",
    "\n",
    "# Freeze the model parameters\n",
    "for param in model3.parameters():\n",
    "    param.requires_grad = False\n",
    "\n",
    "# -----------------------------------------------------------------------------\n",
    "# Ensemble Model \n",
    "model = Ensemble(model1, model2, model3, num_classes, num_ftrs1, num_ftrs2, num_ftrs3)\n",
    "\n",
    "# Define the device\n",
    "device = torch.device('cuda' if torch.cuda.is_available() else 'cpu')\n",
    "model.to(device)"
   ]
  },
  {
   "cell_type": "code",
   "execution_count": null,
   "metadata": {
    "collapsed": false
   },
   "outputs": [],
   "source": [
    "# Loss and optimizer\n",
    "criterion = torch.nn.CrossEntropyLoss()\n",
    "optimizer = Adam(model.parameters(), lr=learningRate, weight_decay=WeightDecay)\n",
    "print(f'{blue}Device: {yellow}{device}{reset}')"
   ]
  },
  {
   "cell_type": "code",
   "execution_count": null,
   "metadata": {
    "collapsed": false
   },
   "outputs": [],
   "source": [
    "# TRAINING\n",
    "\n",
    "# Loss metrics\n",
    "train_loss = []\n",
    "val_loss = []\n",
    "# Accuracy metrics\n",
    "train_acc = []\n",
    "val_acc = []\n",
    "# best model score\n",
    "max_score = 0\n",
    "\n",
    "for epoch in range(max_epoch):\n",
    "    model.train()\n",
    "\n",
    "    # Metrics initialization\n",
    "    running_loss = 0.0\n",
    "    num_correct = 0\n",
    "\n",
    "    # TRAINING\n",
    "    for i, data in enumerate(train_loader, 0):\n",
    "        inputs, labels = data\n",
    "        inputs, labels = inputs.to(device), labels.to(device)\n",
    "\n",
    "        # Zero the parameter gradients\n",
    "        optimizer.zero_grad()\n",
    "\n",
    "        # Predictions | forward pass | OUTPUT\n",
    "        outputs = model(inputs)\n",
    "        # Loss | backward pass | GRADIENT\n",
    "        loss = criterion(outputs, labels)\n",
    "        loss.backward()\n",
    "        optimizer.step()\n",
    "\n",
    "        # Metrics\n",
    "        running_loss += loss.item()\n",
    "        _, predicted = torch.max(outputs, 1)\n",
    "        # Count correct predictions\n",
    "        num_correct += (predicted == labels).sum().item()\n",
    "\n",
    "    # ---------------------------------------------------------------------------\n",
    "    # Training loss\n",
    "    train_lss = running_loss / len(train_loader)\n",
    "    train_loss.append(train_lss)\n",
    "\n",
    "    # Training accuracy\n",
    "    train_accuracy = 100 * num_correct / len(train_loader.dataset)\n",
    "    train_acc.append(train_accuracy)\n",
    "    # ---------------------------------------------------------------------------\n",
    "\n",
    "    model.eval()\n",
    "    correct = 0\n",
    "    valid_loss = 0\n",
    "\n",
    "    # VALIDATION\n",
    "    with torch.no_grad():\n",
    "        for data in valid_loader:\n",
    "            inputs, labels = data\n",
    "            inputs, labels = inputs.to(device), labels.to(device)\n",
    "\n",
    "            # Predictions\n",
    "            outputs = model(inputs)\n",
    "            # Count correct predictions\n",
    "            _, predicted = torch.max(outputs, 1)\n",
    "            correct += (predicted == labels).sum().item()\n",
    "            # Loss\n",
    "            valid_loss += criterion(outputs, labels).item()\n",
    "\n",
    "    # --------------------------------------------------------------------------\n",
    "    #Validation loss\n",
    "    val_lss = valid_loss / len(valid_loader)\n",
    "    val_loss.append(val_lss)\n",
    "\n",
    "    # Validation accuracy\n",
    "    val_accuracy = 100 * correct / len(valid_loader.dataset)\n",
    "    val_acc.append(val_accuracy)\n",
    "    # --------------------------------------------------------------------------\n",
    "\n",
    "    print(f'{cyan}\\nEPOCH {epoch + 1}{reset}')\n",
    "    print(f\"Loss: {red}{train_lss}{reset}, Validation Accuracy: {red}{val_accuracy}%{reset}, Training Accuracy: {red}{train_accuracy}%\")\n",
    "\n",
    "    # Save the best model\n",
    "    if val_accuracy > max_score:\n",
    "        max_score = val_accuracy\n",
    "        path = d + loc + '/models/en/res152_eff_vitl_T.pth'\n",
    "        torch.save(model.state_dict(), path)\n",
    "        print(f'{green}Improvement! Model saved!{reset}')\n",
    "\n",
    "print(f'{yellow}Training finished!\\n')\n",
    "\n",
    "# Save the Final model\n",
    "path = d + loc + '/models/en/res152_eff_vitl_F.pth'\n",
    "torch.save(model.state_dict(), path)"
   ]
  },
  {
   "cell_type": "code",
   "execution_count": null,
   "metadata": {
    "collapsed": false
   },
   "outputs": [],
   "source": [
    "# Graph of training and validation: loss and accuracy | dual plots\n",
    "fig, (ax1, ax2) = plt.subplots(1, 2, figsize=(20, 8))\n",
    "\n",
    "# Loss plot\n",
    "ax1.set_title(\"Loss\")\n",
    "ax1.plot(val_loss, color='red', label='Validation loss', linestyle='dashed')\n",
    "ax1.plot(train_loss, color='orange', label='Training loss')\n",
    "ax1.legend()\n",
    "ax1.set_xlabel(\"Iterations\")\n",
    "ax1.set_ylabel(\"Loss\")\n",
    "\n",
    "# Accuracy plot\n",
    "ax2.set_title(\"Accuracy\")\n",
    "ax2.plot(val_acc, color='red', label='Validation accuracy', linestyle='dashed')\n",
    "ax2.plot(train_acc, color='orange', label='Training accuracy')\n",
    "ax2.legend()\n",
    "ax2.set_xlabel(\"Iterations\")\n",
    "ax2.set_ylabel(\"Accuracy\")\n",
    "\n",
    "plt.show()"
   ]
  },
  {
   "cell_type": "code",
   "execution_count": null,
   "metadata": {},
   "outputs": [],
   "source": [
    "print(val_loss)\n",
    "print(train_loss)\n",
    "print(\"-\" * 50)\n",
    "print(val_acc)\n",
    "print(train_acc)"
   ]
  },
  {
   "cell_type": "code",
   "execution_count": null,
   "metadata": {
    "collapsed": false
   },
   "outputs": [],
   "source": [
    "# TESTING on FINAL Model\n",
    "acc_final = 0\n",
    "correct = 0\n",
    "total = 0\n",
    "\n",
    "y_pred_F = []\n",
    "y_true_F = []\n",
    "\n",
    "model.eval()\n",
    "\n",
    "with torch.no_grad():\n",
    "    for i, data in enumerate(test_loader, 0):\n",
    "        inputs, labels = data\n",
    "        inputs, labels = inputs.to(device), labels.to(device)\n",
    "\n",
    "        # Predictions | forward pass | OUTPUT\n",
    "        outputs = model(inputs)\n",
    "        # Count correct predictions\n",
    "        _, predicted = torch.max(outputs, 1)\n",
    "        total += labels.size(0)\n",
    "        correct += (predicted == labels).sum().item()\n",
    "        \n",
    "        y_pred_F.extend(predicted.tolist())\n",
    "        y_true_F.extend(labels.tolist())\n",
    "\n",
    "acc_final = 100 * correct / total\n",
    "print(f\"{blue}Test Accuracy (Final Model): {red}{100 * correct / total}%\")"
   ]
  },
  {
   "cell_type": "code",
   "execution_count": null,
   "metadata": {
    "collapsed": false
   },
   "outputs": [],
   "source": [
    "# TESTING on BEST Model\n",
    "b_model = Ensemble(model1, model2, model3, num_classes, num_ftrs1, num_ftrs2, num_ftrs3)\n",
    "b_model.load_state_dict(torch.load(d + loc + '/models/en/res152_eff_vitl_T.pth'))\n",
    "\n",
    "acc_best = 0\n",
    "correct = 0\n",
    "total = 0\n",
    "\n",
    "y_pred_B = []\n",
    "y_true_B = []\n",
    "\n",
    "b_model.eval()\n",
    "b_model.to(device)\n",
    "\n",
    "with torch.no_grad():\n",
    "    for i, data in enumerate(test_loader, 0):\n",
    "        inputs, labels = data\n",
    "        inputs, labels = inputs.to(device), labels.to(device)\n",
    "\n",
    "        # Predictions | forward pass | OUTPUT\n",
    "        outputs = b_model(inputs)\n",
    "        # Count correct predictions\n",
    "        _, predicted = torch.max(outputs, 1)\n",
    "        total += labels.size(0)\n",
    "        correct += (predicted == labels).sum().item()\n",
    "        \n",
    "        y_pred_B.extend(predicted.tolist())\n",
    "        y_true_B.extend(labels.tolist())\n",
    "\n",
    "acc_best = 100 * correct / total\n",
    "print(f\"{blue}Test Accuracy (Best Model): {red}{100 * correct / total}%\")"
   ]
  },
  {
   "cell_type": "code",
   "execution_count": null,
   "metadata": {
    "collapsed": false
   },
   "outputs": [],
   "source": [
    "if acc_final > acc_best:\n",
    "    max_acc_ac = acc_final\n",
    "    y_pred = y_pred_F\n",
    "    y_true = y_true_F\n",
    "    print(f\"{blue}Best Accuracy on Final Model! {red}{max_acc_ac}{reset}\")\n",
    "    \n",
    "else:\n",
    "    model = b_model\n",
    "    max_acc_ac = acc_best\n",
    "    y_pred = y_pred_B\n",
    "    y_true = y_true_B\n",
    "    print(f\"{blue}Best Accuracy on Highest Accuracy Validation Model! {red}{max_acc_ac}{reset}\")"
   ]
  },
  {
   "cell_type": "code",
   "execution_count": null,
   "metadata": {
    "collapsed": false
   },
   "outputs": [],
   "source": [
    "# Classification Report\n",
    "print(f\"{blue}Classification Report:\")\n",
    "print(classification_report(y_true, y_pred, target_names=dataset_test.classes))"
   ]
  },
  {
   "cell_type": "code",
   "execution_count": null,
   "metadata": {
    "collapsed": false
   },
   "outputs": [],
   "source": [
    "# F-1 Score\n",
    "f1 = f1_score(y_true, y_pred, average='weighted')\n",
    "print(f\"{blue}F-1 Score: {red}{f1 * 100}%{reset}\")"
   ]
  },
  {
   "cell_type": "code",
   "execution_count": null,
   "metadata": {
    "collapsed": false
   },
   "outputs": [],
   "source": [
    "# Precision\n",
    "precision = precision_score(y_true, y_pred, average='weighted')\n",
    "print(f\"{blue}Precision: {red}{precision * 100}%{reset}\")"
   ]
  },
  {
   "cell_type": "code",
   "execution_count": null,
   "metadata": {
    "collapsed": false
   },
   "outputs": [],
   "source": [
    "# Recall | Sensitivity\n",
    "recall = recall_score(y_true, y_pred, average='weighted')\n",
    "print(f\"{blue}Recall: {red}{recall * 100}%{reset}\")"
   ]
  },
  {
   "cell_type": "code",
   "execution_count": null,
   "metadata": {
    "collapsed": false
   },
   "outputs": [],
   "source": [
    "def tp_calc (y_true, y_pred, class_label):\n",
    "    tp = 0\n",
    "    for i in range(len(y_true)):\n",
    "        if y_true[i] == class_label and y_pred[i] == class_label:\n",
    "            tp += 1\n",
    "    return tp\n",
    "    \n",
    "def tn_calc (y_true, y_pred, class_label):\n",
    "    tn = 0\n",
    "    for i in range(len(y_true)):\n",
    "        if y_true[i] != class_label and y_pred[i] != class_label:\n",
    "            tn += 1\n",
    "    return tn\n",
    "    \n",
    "def fp_calc (y_true, y_pred, class_label):\n",
    "    fp = 0\n",
    "    for i in range(len(y_true)):\n",
    "        if y_true[i] != class_label and y_pred[i] == class_label:\n",
    "            fp += 1\n",
    "    return fp\n",
    "    \n",
    "def fn_calc (y_true, y_pred, class_label):\n",
    "    fn = 0\n",
    "    for i in range(len(y_true)):\n",
    "        if y_true[i] == class_label and y_pred[i] != class_label:\n",
    "            fn += 1\n",
    "    return fn"
   ]
  },
  {
   "cell_type": "code",
   "execution_count": null,
   "metadata": {
    "collapsed": false
   },
   "outputs": [],
   "source": [
    "def calculate_specificity(y_true, y_pred, class_index):\n",
    "    # Convert y_true and y_pred to numpy arrays if they are lists\n",
    "    y_true = np.array(y_true)\n",
    "    y_pred = np.array(y_pred)\n",
    "\n",
    "    # Identify true positive, false positive, true negative, and false negative counts\n",
    "    # true_positive = np.sum((y_true == class_index) & (y_pred == class_index))\n",
    "    false_positive = np.sum((y_true != class_index) & (y_pred == class_index))\n",
    "    true_negative = np.sum((y_true != class_index) & (y_pred != class_index))\n",
    "    # false_negative = np.sum((y_true == class_index) & (y_pred != class_index))\n",
    "\n",
    "    # Calculate specificity\n",
    "    specificity = true_negative / (true_negative + false_positive)\n",
    "\n",
    "    return specificity\n",
    "\n",
    "def calculate_multi_class_specificity(y_true, y_pred):\n",
    "    num_classes = len(np.unique(y_true))\n",
    "    specificity_scores = []\n",
    "\n",
    "    for class_index in range(num_classes):\n",
    "        specificity = calculate_specificity(y_true, y_pred, class_index)\n",
    "        specificity_scores.append(specificity)\n",
    "\n",
    "    # Calculate the average specificity across all classes\n",
    "    average_specificity = np.mean(specificity_scores)\n",
    "\n",
    "    return average_specificity, specificity_scores\n",
    "\n",
    "\n",
    "# Calculate the specificity\n",
    "average_specificity, specificity_scores = calculate_multi_class_specificity(y_true, y_pred)\n",
    "print(f\"{blue}Specificity: {red}{average_specificity * 100}%{reset}\")"
   ]
  },
  {
   "cell_type": "code",
   "execution_count": null,
   "metadata": {
    "collapsed": false
   },
   "outputs": [],
   "source": [
    "# Confusion Matrix\n",
    "cm = confusion_matrix(y_true, y_pred)\n",
    "disp = ConfusionMatrixDisplay(confusion_matrix=cm, display_labels=dataset_test.classes)\n",
    "disp.plot(cmap=plt.cm.Blues, xticks_rotation='vertical')\n",
    "plt.title(\"MobileNet V3 Large\")\n",
    "plt.show()"
   ]
  }
 ],
 "metadata": {
  "kernelspec": {
   "display_name": "Python 3 (ipykernel)",
   "language": "python",
   "name": "python3"
  },
  "language_info": {
   "codemirror_mode": {
    "name": "ipython",
    "version": 3
   },
   "file_extension": ".py",
   "mimetype": "text/x-python",
   "name": "python",
   "nbconvert_exporter": "python",
   "pygments_lexer": "ipython3",
   "version": "3.9.19"
  }
 },
 "nbformat": 4,
 "nbformat_minor": 0
}
